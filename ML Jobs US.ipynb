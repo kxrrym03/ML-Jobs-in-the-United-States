{
 "cells": [
  {
   "cell_type": "code",
   "execution_count": 3,
   "id": "3bddd268-6dfe-4cae-a92a-f682a58a4903",
   "metadata": {},
   "outputs": [
    {
     "name": "stdout",
     "output_type": "stream",
     "text": [
      "   Unnamed: 0 job_posted_date company_address_locality company_address_region  \\\n",
      "0           0      2024-10-31             Indianapolis                Indiana   \n",
      "1           1      2025-03-14            San Francisco             California   \n",
      "2           2      2025-04-09                 San Jose                     CA   \n",
      "3           3      2025-03-22            Mountain View             California   \n",
      "4           4      2025-03-28                   Boston          Massachusetts   \n",
      "\n",
      "  company_name             company_website  \\\n",
      "0   Upper Hand       https://upperhand.com   \n",
      "1       Ikigai   https://www.ikigailabs.io   \n",
      "2        Adobe        http://www.adobe.com   \n",
      "3        Waymo  https://waymo.com/careers/   \n",
      "4          HMH        http://www.hmhco.com   \n",
      "\n",
      "                                 company_description  \\\n",
      "0  Upper Hand is the leading provider of full-sui...   \n",
      "1  Built upon years of MIT research, Ikigai is a ...   \n",
      "2  Adobe is the global leader in digital media an...   \n",
      "3  On the journey to be the world's most trusted ...   \n",
      "4  We are an adaptive learning company that empow...   \n",
      "\n",
      "                                job_description_text   seniority_level  \\\n",
      "0  OverviewUpper Hand is embarking on an exciting...        Internship   \n",
      "1  Company DescriptionThe Ikigai platform unlocks...  Mid-Senior level   \n",
      "2  Our CompanyChanging the world through digital ...       Entry level   \n",
      "3  Waymo is an autonomous driving technology comp...       Entry level   \n",
      "4  Job Title: Machine Learning EngineerLocation: ...  Mid-Senior level   \n",
      "\n",
      "                                           job_title  \n",
      "0  Internship - Machine Learning Engineer & Data ...  \n",
      "1                          Machine Learning Engineer  \n",
      "2                          Machine Learning Engineer  \n",
      "3                Machine Learning Engineer, Training  \n",
      "4                          Machine Learning Engineer  \n"
     ]
    },
    {
     "data": {
      "text/plain": [
       "(997, 10)"
      ]
     },
     "execution_count": 3,
     "metadata": {},
     "output_type": "execute_result"
    }
   ],
   "source": [
    "import pandas as pd\n",
    "import numpy as np\n",
    "import seaborn as sns\n",
    "import matplotlib.pyplot as plt\n",
    "\n",
    "df = pd.read_csv(r'C:\\Users\\Kerry\\1000_ml_jobs_us.csv')\n",
    "print(df.head())\n",
    "df.shape"
   ]
  },
  {
   "cell_type": "code",
   "execution_count": null,
   "id": "43a9f0d7-82ff-479e-9e2b-5c0d0ecee3fb",
   "metadata": {},
   "outputs": [],
   "source": []
  }
 ],
 "metadata": {
  "kernelspec": {
   "display_name": "Python 3 (ipykernel)",
   "language": "python",
   "name": "python3"
  },
  "language_info": {
   "codemirror_mode": {
    "name": "ipython",
    "version": 3
   },
   "file_extension": ".py",
   "mimetype": "text/x-python",
   "name": "python",
   "nbconvert_exporter": "python",
   "pygments_lexer": "ipython3",
   "version": "3.12.7"
  }
 },
 "nbformat": 4,
 "nbformat_minor": 5
}
