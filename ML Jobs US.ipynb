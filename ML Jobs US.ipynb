{
 "cells": [
  {
   "cell_type": "code",
   "execution_count": 1,
   "id": "3bddd268-6dfe-4cae-a92a-f682a58a4903",
   "metadata": {},
   "outputs": [
    {
     "name": "stdout",
     "output_type": "stream",
     "text": [
      "   Unnamed: 0 job_posted_date company_address_locality company_address_region  \\\n",
      "0           0      2024-10-31             Indianapolis                Indiana   \n",
      "1           1      2025-03-14            San Francisco             California   \n",
      "2           2      2025-04-09                 San Jose                     CA   \n",
      "3           3      2025-03-22            Mountain View             California   \n",
      "4           4      2025-03-28                   Boston          Massachusetts   \n",
      "\n",
      "  company_name             company_website  \\\n",
      "0   Upper Hand       https://upperhand.com   \n",
      "1       Ikigai   https://www.ikigailabs.io   \n",
      "2        Adobe        http://www.adobe.com   \n",
      "3        Waymo  https://waymo.com/careers/   \n",
      "4          HMH        http://www.hmhco.com   \n",
      "\n",
      "                                 company_description  \\\n",
      "0  Upper Hand is the leading provider of full-sui...   \n",
      "1  Built upon years of MIT research, Ikigai is a ...   \n",
      "2  Adobe is the global leader in digital media an...   \n",
      "3  On the journey to be the world's most trusted ...   \n",
      "4  We are an adaptive learning company that empow...   \n",
      "\n",
      "                                job_description_text   seniority_level  \\\n",
      "0  OverviewUpper Hand is embarking on an exciting...        Internship   \n",
      "1  Company DescriptionThe Ikigai platform unlocks...  Mid-Senior level   \n",
      "2  Our CompanyChanging the world through digital ...       Entry level   \n",
      "3  Waymo is an autonomous driving technology comp...       Entry level   \n",
      "4  Job Title: Machine Learning EngineerLocation: ...  Mid-Senior level   \n",
      "\n",
      "                                           job_title  \n",
      "0  Internship - Machine Learning Engineer & Data ...  \n",
      "1                          Machine Learning Engineer  \n",
      "2                          Machine Learning Engineer  \n",
      "3                Machine Learning Engineer, Training  \n",
      "4                          Machine Learning Engineer  \n"
     ]
    },
    {
     "data": {
      "text/plain": [
       "(997, 10)"
      ]
     },
     "execution_count": 1,
     "metadata": {},
     "output_type": "execute_result"
    }
   ],
   "source": [
    "import pandas as pd\n",
    "import numpy as np\n",
    "import seaborn as sns\n",
    "import matplotlib.pyplot as plt\n",
    "\n",
    "df = pd.read_csv(r'C:\\Users\\Kerry\\1000_ml_jobs_us.csv')\n",
    "print(df.head())\n",
    "df.shape"
   ]
  },
  {
   "cell_type": "code",
   "execution_count": 2,
   "id": "43a9f0d7-82ff-479e-9e2b-5c0d0ecee3fb",
   "metadata": {},
   "outputs": [
    {
     "data": {
      "text/plain": [
       "0"
      ]
     },
     "execution_count": 2,
     "metadata": {},
     "output_type": "execute_result"
    }
   ],
   "source": [
    "df.duplicated().sum()"
   ]
  },
  {
   "cell_type": "code",
   "execution_count": 3,
   "id": "5f07f693-44d7-487f-8e66-59af8b02cc58",
   "metadata": {},
   "outputs": [
    {
     "data": {
      "text/plain": [
       "Unnamed: 0                    0\n",
       "job_posted_date               0\n",
       "company_address_locality     47\n",
       "company_address_region      113\n",
       "company_name                  0\n",
       "company_website              14\n",
       "company_description          12\n",
       "job_description_text          1\n",
       "seniority_level               9\n",
       "job_title                     0\n",
       "dtype: int64"
      ]
     },
     "execution_count": 3,
     "metadata": {},
     "output_type": "execute_result"
    }
   ],
   "source": [
    "df.isnull().sum()"
   ]
  },
  {
   "cell_type": "code",
   "execution_count": 4,
   "id": "65f01bbe-c805-4406-af57-4df4dfe2d3ce",
   "metadata": {},
   "outputs": [
    {
     "data": {
      "text/html": [
       "<div>\n",
       "<style scoped>\n",
       "    .dataframe tbody tr th:only-of-type {\n",
       "        vertical-align: middle;\n",
       "    }\n",
       "\n",
       "    .dataframe tbody tr th {\n",
       "        vertical-align: top;\n",
       "    }\n",
       "\n",
       "    .dataframe thead th {\n",
       "        text-align: right;\n",
       "    }\n",
       "</style>\n",
       "<table border=\"1\" class=\"dataframe\">\n",
       "  <thead>\n",
       "    <tr style=\"text-align: right;\">\n",
       "      <th></th>\n",
       "      <th>Unnamed: 0</th>\n",
       "    </tr>\n",
       "  </thead>\n",
       "  <tbody>\n",
       "    <tr>\n",
       "      <th>count</th>\n",
       "      <td>997.000000</td>\n",
       "    </tr>\n",
       "    <tr>\n",
       "      <th>mean</th>\n",
       "      <td>498.000000</td>\n",
       "    </tr>\n",
       "    <tr>\n",
       "      <th>std</th>\n",
       "      <td>287.953411</td>\n",
       "    </tr>\n",
       "    <tr>\n",
       "      <th>min</th>\n",
       "      <td>0.000000</td>\n",
       "    </tr>\n",
       "    <tr>\n",
       "      <th>25%</th>\n",
       "      <td>249.000000</td>\n",
       "    </tr>\n",
       "    <tr>\n",
       "      <th>50%</th>\n",
       "      <td>498.000000</td>\n",
       "    </tr>\n",
       "    <tr>\n",
       "      <th>75%</th>\n",
       "      <td>747.000000</td>\n",
       "    </tr>\n",
       "    <tr>\n",
       "      <th>max</th>\n",
       "      <td>996.000000</td>\n",
       "    </tr>\n",
       "  </tbody>\n",
       "</table>\n",
       "</div>"
      ],
      "text/plain": [
       "       Unnamed: 0\n",
       "count  997.000000\n",
       "mean   498.000000\n",
       "std    287.953411\n",
       "min      0.000000\n",
       "25%    249.000000\n",
       "50%    498.000000\n",
       "75%    747.000000\n",
       "max    996.000000"
      ]
     },
     "execution_count": 4,
     "metadata": {},
     "output_type": "execute_result"
    }
   ],
   "source": [
    "df.describe()"
   ]
  },
  {
   "cell_type": "code",
   "execution_count": 5,
   "id": "66f09011-bad7-486e-85c4-b8fd37b83b5b",
   "metadata": {},
   "outputs": [
    {
     "name": "stdout",
     "output_type": "stream",
     "text": [
      "<class 'pandas.core.frame.DataFrame'>\n",
      "RangeIndex: 997 entries, 0 to 996\n",
      "Data columns (total 10 columns):\n",
      " #   Column                    Non-Null Count  Dtype \n",
      "---  ------                    --------------  ----- \n",
      " 0   Unnamed: 0                997 non-null    int64 \n",
      " 1   job_posted_date           997 non-null    object\n",
      " 2   company_address_locality  950 non-null    object\n",
      " 3   company_address_region    884 non-null    object\n",
      " 4   company_name              997 non-null    object\n",
      " 5   company_website           983 non-null    object\n",
      " 6   company_description       985 non-null    object\n",
      " 7   job_description_text      996 non-null    object\n",
      " 8   seniority_level           988 non-null    object\n",
      " 9   job_title                 997 non-null    object\n",
      "dtypes: int64(1), object(9)\n",
      "memory usage: 78.0+ KB\n"
     ]
    }
   ],
   "source": [
    "df.info()"
   ]
  },
  {
   "cell_type": "code",
   "execution_count": 6,
   "id": "1973f35d-633a-4c14-82eb-bc3700444eb3",
   "metadata": {},
   "outputs": [
    {
     "data": {
      "text/plain": [
       "Index(['Unnamed: 0', 'job_posted_date', 'company_address_locality',\n",
       "       'company_address_region', 'company_name', 'company_website',\n",
       "       'company_description', 'job_description_text', 'seniority_level',\n",
       "       'job_title'],\n",
       "      dtype='object')"
      ]
     },
     "execution_count": 6,
     "metadata": {},
     "output_type": "execute_result"
    }
   ],
   "source": [
    "df.columns"
   ]
  },
  {
   "cell_type": "code",
   "execution_count": null,
   "id": "281a0339-3d1d-42b0-ac03-3a42ffb39347",
   "metadata": {},
   "outputs": [],
   "source": []
  }
 ],
 "metadata": {
  "kernelspec": {
   "display_name": "Python 3 (ipykernel)",
   "language": "python",
   "name": "python3"
  },
  "language_info": {
   "codemirror_mode": {
    "name": "ipython",
    "version": 3
   },
   "file_extension": ".py",
   "mimetype": "text/x-python",
   "name": "python",
   "nbconvert_exporter": "python",
   "pygments_lexer": "ipython3",
   "version": "3.12.7"
  }
 },
 "nbformat": 4,
 "nbformat_minor": 5
}
